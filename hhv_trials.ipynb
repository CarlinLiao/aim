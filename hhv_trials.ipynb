{
 "cells": [
  {
   "cell_type": "code",
   "execution_count": 1,
   "metadata": {},
   "outputs": [],
   "source": [
    "import csv\n",
    "import math\n",
    "import subprocess\n",
    "\n",
    "import pandas as pd\n",
    "import numpy as np\n",
    "import matplotlib.pyplot as plt"
   ]
  },
  {
   "cell_type": "markdown",
   "metadata": {},
   "source": [
    "# Trials\n",
    "\n",
    "Let's run trials in Python from outside the Java source files. Make sure to make the jar file by running `mvn assembly:assembly` with your command line/shell of choice in the main directory first.\n",
    "\n",
    "## Setup file reading functions"
   ]
  },
  {
   "cell_type": "code",
   "execution_count": 2,
   "metadata": {},
   "outputs": [],
   "source": [
    "def read_baseline(baseline_filename):\n",
    "    traversal_time = dict()\n",
    "    with open(baseline_filename) as infile:\n",
    "        isFirstLine = True\n",
    "        vtime = dict()\n",
    "        for s in infile:\n",
    "            if isFirstLine:\n",
    "                isFirstLine = False\n",
    "            else:\n",
    "                s2 = s.strip()\n",
    "                d = s2.split(',')\n",
    "                key = (d[3],d[4],d[5])\n",
    "                if key in vtime:\n",
    "                    t = abs(float(d[1])-float(vtime[key]))\n",
    "                    traversal_time[key] = t\n",
    "                else:\n",
    "                    vtime[key] = d[1]\n",
    "    return traversal_time\n",
    "\n",
    "def read_delay(infilename, base_time):\n",
    "    delay_time = dict()\n",
    "    with open(infilename) as infile:\n",
    "        isFirstLine = True\n",
    "        vtime = dict()\n",
    "        for s in infile:\n",
    "            if isFirstLine:\n",
    "                isFirstLine = False\n",
    "            else:\n",
    "                s2 = s.strip()\n",
    "                d = s2.split(',')\n",
    "                vin = d[0]\n",
    "                t = d[1]\n",
    "                key = (d[3],d[4],d[5])\n",
    "                if vin in vtime:\n",
    "                    traversal_time = abs(float(t)-float(vtime[vin]))\n",
    "                    delay_time[vin] = traversal_time - base_time[key]\n",
    "                else:\n",
    "                    vtime[vin] = t\n",
    "    return delay_time\n",
    "\n",
    "def print_traversal_time(traversal_time):\n",
    "    for (type,laneId,destRoad),t in traversal_time.items():\n",
    "        print(\"[\", type, \",\", laneId, \",\", destRoad, \"] = \", t);\n",
    "\n",
    "def avg_delay(delay_time):\n",
    "\tcount_for_human = 0\n",
    "\tcount_for_auto = 0\n",
    "\tdelay_for_human = 0\n",
    "\tdelay_for_auto = 0\n",
    "\t\n",
    "\tfor vin,delay in delay_time.items():\n",
    "\t\tif (int(vin) >= 10000):\n",
    "\t\t\tcount_for_human += 1\n",
    "\t\t\tdelay_for_human += delay\n",
    "\t\telse:\n",
    "\t\t\tcount_for_auto += 1\n",
    "\t\t\tdelay_for_auto += delay\n",
    "\n",
    "\tif (count_for_human != 0):\n",
    "\t  avg_delay_human = delay_for_human / count_for_human\n",
    "\telse:\n",
    "\t  avg_delay_human = 0\n",
    "\t  \n",
    "\tif (count_for_auto != 0):\n",
    "\t  avg_delay_auto = delay_for_auto / count_for_auto\n",
    "\telse:\n",
    "\t  avg_delay_auto = 0\n",
    "\n",
    "\tif (count_for_human != 0 or count_for_auto != 0):\n",
    "\t  avg_delay = (delay_for_human + delay_for_auto) / (count_for_human + count_for_auto)\n",
    "\telse:\n",
    "\t  avg_delay = 0\n",
    "\treturn [avg_delay, avg_delay_human, avg_delay_auto]"
   ]
  },
  {
   "cell_type": "markdown",
   "metadata": {},
   "source": [
    "## Automate trials for a single set of parameters"
   ]
  },
  {
   "cell_type": "code",
   "execution_count": 3,
   "metadata": {},
   "outputs": [
    {
     "data": {
      "text/html": [
       "<div>\n",
       "<style scoped>\n",
       "    .dataframe tbody tr th:only-of-type {\n",
       "        vertical-align: middle;\n",
       "    }\n",
       "\n",
       "    .dataframe tbody tr th {\n",
       "        vertical-align: top;\n",
       "    }\n",
       "\n",
       "    .dataframe thead th {\n",
       "        text-align: right;\n",
       "    }\n",
       "</style>\n",
       "<table border=\"1\" class=\"dataframe\">\n",
       "  <thead>\n",
       "    <tr style=\"text-align: right;\">\n",
       "      <th></th>\n",
       "      <th>avg_delay</th>\n",
       "      <th>delay_human</th>\n",
       "      <th>avg_delay_auto</th>\n",
       "    </tr>\n",
       "  </thead>\n",
       "  <tbody>\n",
       "    <tr>\n",
       "      <th>0</th>\n",
       "      <td>1.007098</td>\n",
       "      <td>1.081429</td>\n",
       "      <td>0.999197</td>\n",
       "    </tr>\n",
       "  </tbody>\n",
       "</table>\n",
       "</div>"
      ],
      "text/plain": [
       "   avg_delay  delay_human  avg_delay_auto\n",
       "0   1.007098     1.081429        0.999197"
      ]
     },
     "execution_count": 3,
     "metadata": {},
     "output_type": "execute_result"
    }
   ],
   "source": [
    "def hhv_trial(traffic_level, hhv_proportion, buffer_factor, baseline_filename='output/baseline.csv', n=30):\n",
    "    '''\n",
    "    Run a HHV trial\n",
    "    \n",
    "    n:   how many iterations of the same trial to run\n",
    "    '''\n",
    "    \n",
    "    base_time = read_baseline(baseline_filename)\n",
    "    \n",
    "    command = 'java -jar target/AIM5HHV-0.1-trb2020-jar-with-dependencies.jar -d {} {} {}'.format(traffic_level, hhv_proportion, buffer_factor)\n",
    "    fileName = 'output/ts_hud_{}_{}_{}.csv'.format(traffic_level, hhv_proportion, buffer_factor)\n",
    "\n",
    "    df = pd.DataFrame(columns=['avg_delay', 'delay_human', 'avg_delay_auto'])\n",
    "    \n",
    "#     with open(\"output/delay_result_for_human_t{}_p{}_b{}x.csv\".format(traffic_level, hhv_proportion, buffer_factor), \"w\") as csvfile:\n",
    "#         writer = csv.writer(csvfile)\n",
    "    for i in range(n):\n",
    "        subprocess.run(command, shell=True, stdout=subprocess.DEVNULL, stderr=subprocess.DEVNULL)\n",
    "        avg_delay_time = avg_delay(read_delay(fileName, base_time))\n",
    "        df.loc[i] = avg_delay_time\n",
    "#             writer.writerow(avg_delay_time)\n",
    "            \n",
    "    subprocess.run(\"rm {}\".format(fileName), shell=True, stdout=subprocess.DEVNULL, stderr=subprocess.DEVNULL)\n",
    "    \n",
    "    return df\n",
    "\n",
    "df = hhv_trial(0.1, 0.1, 4.0, n=1)\n",
    "df.head()"
   ]
  },
  {
   "cell_type": "markdown",
   "metadata": {},
   "source": [
    "## Automate trials for many parameters"
   ]
  },
  {
   "cell_type": "code",
   "execution_count": 4,
   "metadata": {},
   "outputs": [
    {
     "data": {
      "text/html": [
       "<div>\n",
       "<style scoped>\n",
       "    .dataframe tbody tr th:only-of-type {\n",
       "        vertical-align: middle;\n",
       "    }\n",
       "\n",
       "    .dataframe tbody tr th {\n",
       "        vertical-align: top;\n",
       "    }\n",
       "\n",
       "    .dataframe thead th {\n",
       "        text-align: right;\n",
       "    }\n",
       "</style>\n",
       "<table border=\"1\" class=\"dataframe\">\n",
       "  <thead>\n",
       "    <tr style=\"text-align: right;\">\n",
       "      <th></th>\n",
       "      <th>ratio</th>\n",
       "      <th>buffer_factor</th>\n",
       "      <th>avg_delay</th>\n",
       "      <th>delay_human</th>\n",
       "      <th>avg_delay_auto</th>\n",
       "    </tr>\n",
       "  </thead>\n",
       "  <tbody>\n",
       "    <tr>\n",
       "      <th>187</th>\n",
       "      <td>0.60</td>\n",
       "      <td>8.0</td>\n",
       "      <td>3.012482</td>\n",
       "      <td>3.325576</td>\n",
       "      <td>2.547179</td>\n",
       "    </tr>\n",
       "    <tr>\n",
       "      <th>124</th>\n",
       "      <td>0.40</td>\n",
       "      <td>5.0</td>\n",
       "      <td>1.099057</td>\n",
       "      <td>1.105616</td>\n",
       "      <td>1.094417</td>\n",
       "    </tr>\n",
       "    <tr>\n",
       "      <th>139</th>\n",
       "      <td>0.45</td>\n",
       "      <td>5.0</td>\n",
       "      <td>1.219783</td>\n",
       "      <td>1.287925</td>\n",
       "      <td>1.164512</td>\n",
       "    </tr>\n",
       "    <tr>\n",
       "      <th>4</th>\n",
       "      <td>0.00</td>\n",
       "      <td>5.0</td>\n",
       "      <td>1.119932</td>\n",
       "      <td>0.000000</td>\n",
       "      <td>1.119932</td>\n",
       "    </tr>\n",
       "    <tr>\n",
       "      <th>100</th>\n",
       "      <td>0.30</td>\n",
       "      <td>11.0</td>\n",
       "      <td>2.606726</td>\n",
       "      <td>3.364751</td>\n",
       "      <td>2.284686</td>\n",
       "    </tr>\n",
       "  </tbody>\n",
       "</table>\n",
       "</div>"
      ],
      "text/plain": [
       "     ratio  buffer_factor  avg_delay  delay_human  avg_delay_auto\n",
       "187   0.60            8.0   3.012482     3.325576        2.547179\n",
       "124   0.40            5.0   1.099057     1.105616        1.094417\n",
       "139   0.45            5.0   1.219783     1.287925        1.164512\n",
       "4     0.00            5.0   1.119932     0.000000        1.119932\n",
       "100   0.30           11.0   2.606726     3.364751        2.284686"
      ]
     },
     "execution_count": 4,
     "metadata": {},
     "output_type": "execute_result"
    }
   ],
   "source": [
    "def hhv_trials(ratio_res=0.05, buffer_res=1.0, buffer_max=16.0, n=30):\n",
    "    traffic_level = 0.1\n",
    "    ratios = np.arange(0.0, 1.01, ratio_res)\n",
    "    buffers = np.arange(1.0, buffer_max+0.01, buffer_res)\n",
    "    \n",
    "    df = pd.DataFrame(columns=['ratio', 'buffer_factor', 'avg_delay', 'delay_human', 'avg_delay_auto'])\n",
    "    \n",
    "    for ratio in ratios:\n",
    "        for buffer in buffers:\n",
    "            dftemp = hhv_trial(traffic_level, ratio, buffer, n=n)\n",
    "            dftemp['ratio'] = ratio\n",
    "            dftemp['buffer_factor'] = buffer\n",
    "            df = pd.concat([df, dftemp], ignore_index=True, sort=False)\n",
    "    \n",
    "    return df\n",
    "\n",
    "try:\n",
    "    df = pd.read_csv(\"output/delay_all_trials.csv\")\n",
    "except FileNotFoundError:\n",
    "    df = hhv_trials()\n",
    "    df.to_csv(\"output/delay_all_trials.csv\", index=False)\n",
    "df.sample(5)"
   ]
  },
  {
   "cell_type": "markdown",
   "metadata": {},
   "source": [
    "## Visualize results"
   ]
  },
  {
   "cell_type": "code",
   "execution_count": 73,
   "metadata": {},
   "outputs": [
    {
     "data": {
      "image/png": "[encoded data removed]",
      "text/plain": [
       "<Figure size 432x288 with 1 Axes>"
      ]
     },
     "metadata": {
      "needs_background": "light"
     },
     "output_type": "display_data"
    }
   ],
   "source": [
    "def plot_hhv_trials(df):\n",
    "    cm = plt.get_cmap('winter')\n",
    "\n",
    "    gs = df.groupby('buffer_factor')\n",
    "    colorcap = max(gs.groups.keys())\n",
    "    for buffer_factor, gbf in gs:\n",
    "        if (buffer_factor)%3==0:\n",
    "            agg = gbf.groupby('ratio').mean()\n",
    "            plt.plot(agg.index[::-1], agg['avg_delay'][::-1], label=buffer_factor*.25, c=cm(buffer_factor/colorcap))\n",
    "    plt.hlines(40, 0, 1, colors='k', label='(Signal)')\n",
    "    plt.ylabel('Average delay (s)')\n",
    "    plt.xlabel('HHV proportion')\n",
    "    plt.title('Effect of HHV penetration and buffer factor on delay')\n",
    "    plt.legend(title='HHV buffer (m)', bbox_to_anchor=(1.04,0.5), loc=\"center left\", borderaxespad=0)\n",
    "    plt.tight_layout()\n",
    "    plt.savefig('output/HHVpen.png', dpi='figure')\n",
    "    plt.show()\n",
    "plot_hhv_trials(df)"
   ]
  },
  {
   "cell_type": "code",
   "execution_count": 74,
   "metadata": {},
   "outputs": [
    {
     "data": {
      "image/png": "[encoded data removed]",
      "text/plain": [
       "<Figure size 432x288 with 1 Axes>"
      ]
     },
     "metadata": {
      "needs_background": "light"
     },
     "output_type": "display_data"
    }
   ],
   "source": [
    "def plot_100pc_HHV_case(df):\n",
    "    dft = df[df['ratio']==1].groupby('buffer_factor').mean()\n",
    "    xs = dft.index*.25\n",
    "    plt.plot(xs,dft['avg_delay'], label='HHVs only')\n",
    "    plt.hlines(40, xs.min(), xs.max(), label='Signal')\n",
    "    plt.xlabel('HHV reservation buffer (m)')\n",
    "    plt.ylabel('Average delay (s)')\n",
    "    plt.title('100% HHV performance')\n",
    "    plt.legend()\n",
    "    plt.tight_layout()\n",
    "    plt.savefig('output/100pcHHVs.png', dpi='figure')\n",
    "    plt.show()\n",
    "plot_100pc_HHV_case(df)"
   ]
  }
 ],
 "metadata": {
  "kernelspec": {
   "display_name": "Python 3",
   "language": "python",
   "name": "python3"
  },
  "language_info": {
   "codemirror_mode": {
    "name": "ipython",
    "version": 3
   },
   "file_extension": ".py",
   "mimetype": "text/x-python",
   "name": "python",
   "nbconvert_exporter": "python",
   "pygments_lexer": "ipython3",
   "version": "3.7.3"
  }
 },
 "nbformat": 4,
 "nbformat_minor": 4
}
